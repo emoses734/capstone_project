{
 "cells": [
  {
   "cell_type": "code",
   "execution_count": null,
   "metadata": {},
   "outputs": [],
   "source": [
    "# Imports:\n",
    "\n",
    "import requests\n",
    "import pandas as pd\n",
    "import numpy as np\n",
    "import re\n",
    "import csv\n",
    "from bs4 import BeautifulSoup\n",
    "import matplotlib.pyplot as plt\n",
    "import urllib.request\n",
    "import nltk\n",
    "import nltk.corpus  \n",
    "from nltk.text import Text\n",
    "import sys\n",
    "\n",
    "from textblob import TextBlob\n",
    "from textblob.sentiments import NaiveBayesAnalyzer\n",
    "# import usaddress\n",
    "\n",
    "\n",
    "data_file = 'app/static/data/reviews.csv'\n",
    "\n",
    "def read_csv(filename):\n",
    "    with open(filename, 'r') as f:\n",
    "        data = list(csv.reader(f))\n",
    "    return data\n",
    "\n",
    "\n",
    "df = pd.read_csv(data_file, encoding='latin1')\n",
    "\n",
    "\n",
    "    wordcloud_df = group_df(reviews_df)\n",
    "        plotnames = make_word_cloud(wordcloud_df, 3, 3, form.productId.data)\n",
    "        plot1 = plotnames[0]\n",
    "        plot2 = plotnames[1]\n",
    "        if reviews_df.shape[0] > 50:\n",
    "            reviews_df_html = reviews_df.drop(['range'], axis=1).iloc[:50].to_html()\n",
    "            return render_template('overview.html', reviews_df_html= reviews_df_html, reviews_df_string=reviews_df_string, path=path, filename=filename, product_name=product_name, product_reviews=product_reviews, product_rating=product_rating, hist_plot=hist_plot, ad_rating=ad_rating, star_plot=star_plot, cs1=cs1, cs2=cs2, cs3=cs3, cs4=cs4, plot1=plot1, plot2=plot2, sales_plot=sales_plot)\n",
    "        else:\n",
    "            reviews_df_html = reviews_df.drop(['range'], axis=1).to_html()\n",
    "            return render_template('overview.html', reviews_df_html= reviews_df_html, reviews_df_string=reviews_df_string, path=path, filename=filename, product_name=product_name, product_reviews=product_reviews, product_rating=product_rating, hist_plot=hist_plot, ad_rating=ad_rating, star_plot=star_plot, cs1=cs1, cs2=cs2, cs3=cs3, cs4=cs4, plot1=plot1, plot2=plot2, sales_plot=sales_plot)\n",
    "return render_template('index.html', form = form)"
   ]
  }
 ],
 "metadata": {
  "kernelspec": {
   "display_name": "Python 3",
   "language": "python",
   "name": "python3"
  },
  "language_info": {
   "codemirror_mode": {
    "name": "ipython",
    "version": 3
   },
   "file_extension": ".py",
   "mimetype": "text/x-python",
   "name": "python",
   "nbconvert_exporter": "python",
   "pygments_lexer": "ipython3",
   "version": "3.6.5"
  }
 },
 "nbformat": 4,
 "nbformat_minor": 2
}
